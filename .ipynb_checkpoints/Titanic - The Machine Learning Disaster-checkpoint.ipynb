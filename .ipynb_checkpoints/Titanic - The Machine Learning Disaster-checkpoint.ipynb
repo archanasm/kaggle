{
 "cells": [
  {
   "cell_type": "code",
   "execution_count": null,
   "metadata": {
    "collapsed": true
   },
   "outputs": [],
   "source": []
  },
  {
   "cell_type": "code",
   "execution_count": 64,
   "metadata": {
    "scrolled": false
   },
   "outputs": [
    {
     "name": "stdout",
     "output_type": "stream",
     "text": [
      "All features in dataset: ['PassengerId' 'Survived' 'Pclass' 'Name' 'Sex' 'Age' 'SibSp' 'Parch'\n",
      " 'Ticket' 'Fare' 'Cabin' 'Embarked']\n",
      "Features selected for training: ['Pclass' 'Sex' 'Age']\n",
      "Mean Age: 29.6991176471\n",
      "Categorical classes: ['female' 'male']\n",
      "Categorical classes: ['1' '2' '3']\n",
      "Accuracy:0.834 \n",
      "\n"
     ]
    }
   ],
   "source": [
    "import numpy as np\n",
    "import csv\n",
    "#extracting data and selecting features\n",
    "with open('train.csv', 'rb') as csvfile:\n",
    "    titanic_reader = csv.reader(csvfile, delimiter=',', quotechar='\"')\n",
    "    row = titanic_reader.next()\n",
    "    feature_names = np.array(row)\n",
    "    titanic_X, titanic_y = [], []\n",
    "    for row in titanic_reader:\n",
    "        titanic_X.append(row)\n",
    "        titanic_y.append(row[1])\n",
    "titanic_X = np.array(titanic_X)\n",
    "titanic_y = np.array(titanic_y)\n",
    "print \"All features in dataset:\", feature_names\n",
    "titanic_X = titanic_X[:, [2, 4, 5]]\n",
    "feature_names = feature_names[[2, 4, 5]]\n",
    "print \"Features selected for training:\", feature_names\n",
    "#Fill missing data and process it\n",
    "ages = titanic_X[:, 2]\n",
    "mean_age = np.mean(titanic_X[ages != '', 2].astype(np.float))\n",
    "print \"Mean Age:\", mean_age\n",
    "titanic_X[titanic_X[:, 2] == '', 2] = mean_age\n",
    "from sklearn.preprocessing import LabelEncoder\n",
    "enc = LabelEncoder()\n",
    "label_encoder = enc.fit(titanic_X[:, 1])\n",
    "print \"Categorical classes:\", label_encoder.classes_ \n",
    "integer_classes = label_encoder.transform(label_encoder.classes_)\n",
    "t = label_encoder.transform(titanic_X[:, 1])\n",
    "titanic_X[:, 1] = t\n",
    "enc = LabelEncoder()\n",
    "label_encoder = enc.fit(titanic_X[:, 0])\n",
    "print \"Categorical classes:\", label_encoder.classes_ \n",
    "integer_classes = label_encoder.transform(label_encoder.classes_)\n",
    "t = label_encoder.transform(titanic_X[:, 0])\n",
    "titanic_X[:, 0] = t\n",
    "titanic_X = titanic_X.astype(np.float)\n",
    "#split data to training and test sets\n",
    "from sklearn.cross_validation import train_test_split\n",
    "X_train, X_test, y_train, y_test = train_test_split(titanic_X, titanic_y, test_size=0.25, random_state=33)\n",
    "#from sklearn import tree\n",
    "#clf = tree.DecisionTreeClassifier(criterion='entropy', max_depth=3,min_samples_leaf=5)\n",
    "#clf = clf.fit(X_train,y_train)\n",
    "from sklearn.gaussian_process import GaussianProcessClassifier\n",
    "from sklearn.gaussian_process.kernels import RBF\n",
    "clf = clf.fit(X_train, y_train)\n",
    "from sklearn import metrics\n",
    "def measure_performance(X,y,clf, show_accuracy=True, show_classification_report=True, show_confusion_matrix=True):\n",
    "    y_pred=clf.predict(X)\n",
    "    if show_accuracy:\n",
    "        print \"Accuracy:{0:.3f}\".format(metrics.accuracy_score(y, y_pred)),\"\\n\"\n",
    "    if show_classification_report:\n",
    "        print \"Classification report\"\n",
    "        print metrics.classification_report(y,y_pred),\"\\n\"\n",
    "    if show_confusion_matrix:\n",
    "        print \"Confusion matrix\"\n",
    "        print metrics.confusion_matrix(y,y_pred),\"\\n\"\n",
    "measure_performance(X_test, y_test,clf, show_classification_report=False, show_confusion_matrix=False)\n"
   ]
  },
  {
   "cell_type": "code",
   "execution_count": null,
   "metadata": {
    "collapsed": true
   },
   "outputs": [],
   "source": []
  },
  {
   "cell_type": "code",
   "execution_count": null,
   "metadata": {
    "collapsed": true
   },
   "outputs": [],
   "source": []
  }
 ],
 "metadata": {
  "kernelspec": {
   "display_name": "Python 2",
   "language": "python",
   "name": "python2"
  },
  "language_info": {
   "codemirror_mode": {
    "name": "ipython",
    "version": 2
   },
   "file_extension": ".py",
   "mimetype": "text/x-python",
   "name": "python",
   "nbconvert_exporter": "python",
   "pygments_lexer": "ipython2",
   "version": "2.7.11"
  }
 },
 "nbformat": 4,
 "nbformat_minor": 2
}
